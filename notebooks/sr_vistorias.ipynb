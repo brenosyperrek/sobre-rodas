{
 "cells": [
  {
   "cell_type": "code",
   "execution_count": 17,
   "id": "8c48b34d",
   "metadata": {},
   "outputs": [],
   "source": [
    "import pandas as pd\n",
    "import matplotlib.pyplot as plt\n",
    "from sqlalchemy import create_engine\n",
    "import sys"
   ]
  },
  {
   "cell_type": "markdown",
   "id": "a937714c",
   "metadata": {},
   "source": [
    "### Importando dados de Vistoria"
   ]
  },
  {
   "cell_type": "code",
   "execution_count": 6,
   "id": "f0e45b6c",
   "metadata": {},
   "outputs": [
    {
     "name": "stdout",
     "output_type": "stream",
     "text": [
      "<class 'pandas.core.frame.DataFrame'>\n",
      "RangeIndex: 6105 entries, 0 to 6104\n",
      "Data columns (total 4 columns):\n",
      " #   Column                       Non-Null Count  Dtype \n",
      "---  ------                       --------------  ----- \n",
      " 0   CD_MUNICIPIO                 6105 non-null   int64 \n",
      " 1   SITUACAO_VISTORIA            6105 non-null   int64 \n",
      " 2   SITUACAO_VISTORIA_DESCRICAO  6105 non-null   object\n",
      " 3   DATA_EXECUCAO                6105 non-null   object\n",
      "dtypes: int64(2), object(2)\n",
      "memory usage: 190.9+ KB\n",
      "None\n",
      "   CD_MUNICIPIO  SITUACAO_VISTORIA SITUACAO_VISTORIA_DESCRICAO  \\\n",
      "0           571                  3                    NÃO APTO   \n",
      "1           571                  3                    NÃO APTO   \n",
      "2           571                  3                    NÃO APTO   \n",
      "3           571                  3                    NÃO APTO   \n",
      "4           571                  3                    NÃO APTO   \n",
      "\n",
      "             DATA_EXECUCAO  \n",
      "0  2024-07-02 11:13:17.000  \n",
      "1  2024-07-02 09:31:11.000  \n",
      "2  2024-12-12 09:00:38.000  \n",
      "3  2024-07-24 14:24:30.000  \n",
      "4  2024-07-24 14:30:25.000  \n"
     ]
    }
   ],
   "source": [
    "df_vistorias = pd.read_csv('/home/breno/projects/sobre-rodas/data/raw/V_VISTORIAS_EXECUTADAS_202510141605.csv')\n",
    "print(df_vistorias.info())\n",
    "print(df_vistorias.head())"
   ]
  },
  {
   "cell_type": "markdown",
   "id": "4001d914",
   "metadata": {},
   "source": [
    "### Importando dados de Município"
   ]
  },
  {
   "cell_type": "code",
   "execution_count": 7,
   "id": "4fd2fccc",
   "metadata": {},
   "outputs": [
    {
     "name": "stdout",
     "output_type": "stream",
     "text": [
      "<class 'pandas.core.frame.DataFrame'>\n",
      "RangeIndex: 473 entries, 0 to 472\n",
      "Data columns (total 2 columns):\n",
      " #   Column        Non-Null Count  Dtype \n",
      "---  ------        --------------  ----- \n",
      " 0   CD_MUNICIPIO  473 non-null    int64 \n",
      " 1   NM_MUNICIPIO  473 non-null    object\n",
      "dtypes: int64(1), object(1)\n",
      "memory usage: 7.5+ KB\n",
      "None\n",
      "   CD_MUNICIPIO        NM_MUNICIPIO\n",
      "0             1              MATRIZ\n",
      "1             2              ITAJAÍ\n",
      "2             3  BALNEÁRIO CAMBORIU\n",
      "3             4       FLORIANÓPOLIS\n",
      "4             5             TUBARÃO\n"
     ]
    }
   ],
   "source": [
    "df_municipios = pd.read_csv('/home/breno/projects/sobre-rodas/data/raw/ORGAO_EMPRESA_202510141615.csv')\n",
    "df_municipios = df_municipios.rename(columns={'CD_ORGAO_EMPRESA': 'CD_MUNICIPIO', 'NM_ORGAO_EMPRESA': 'NM_MUNICIPIO'})\n",
    "print(df_municipios.info())\n",
    "print(df_municipios.head())\n"
   ]
  },
  {
   "cell_type": "markdown",
   "id": "d68df3e7",
   "metadata": {},
   "source": [
    "### Concatenando Dataframes de vistorias com municipios"
   ]
  },
  {
   "cell_type": "code",
   "execution_count": 8,
   "id": "e07dc5ef",
   "metadata": {},
   "outputs": [
    {
     "name": "stdout",
     "output_type": "stream",
     "text": [
      "<class 'pandas.core.frame.DataFrame'>\n",
      "RangeIndex: 6105 entries, 0 to 6104\n",
      "Data columns (total 5 columns):\n",
      " #   Column                       Non-Null Count  Dtype \n",
      "---  ------                       --------------  ----- \n",
      " 0   CD_MUNICIPIO                 6105 non-null   int64 \n",
      " 1   SITUACAO_VISTORIA            6105 non-null   int64 \n",
      " 2   SITUACAO_VISTORIA_DESCRICAO  6105 non-null   object\n",
      " 3   DATA_EXECUCAO                6105 non-null   object\n",
      " 4   NM_MUNICIPIO                 6105 non-null   object\n",
      "dtypes: int64(2), object(3)\n",
      "memory usage: 238.6+ KB\n",
      "None\n",
      "   CD_MUNICIPIO  SITUACAO_VISTORIA SITUACAO_VISTORIA_DESCRICAO  \\\n",
      "0           571                  3                    NÃO APTO   \n",
      "1           571                  3                    NÃO APTO   \n",
      "2           571                  3                    NÃO APTO   \n",
      "3           571                  3                    NÃO APTO   \n",
      "4           571                  3                    NÃO APTO   \n",
      "\n",
      "             DATA_EXECUCAO NM_MUNICIPIO  \n",
      "0  2024-07-02 11:13:17.000     DESCANSO  \n",
      "1  2024-07-02 09:31:11.000     DESCANSO  \n",
      "2  2024-12-12 09:00:38.000     DESCANSO  \n",
      "3  2024-07-24 14:24:30.000     DESCANSO  \n",
      "4  2024-07-24 14:30:25.000     DESCANSO  \n"
     ]
    }
   ],
   "source": [
    "df_merged = pd.merge(\n",
    "    df_vistorias,\n",
    "    df_municipios,\n",
    "    on='CD_MUNICIPIO',  # Coluna comum para o join\n",
    "    how='left'         # Usa todas as linhas de df_vistoria e adiciona as colunas de df_municipios\n",
    ")\n",
    "df_vistorias = df_merged\n",
    "print(df_vistorias.info())\n",
    "print(df_vistorias.head())\n"
   ]
  },
  {
   "cell_type": "markdown",
   "id": "442f0202",
   "metadata": {},
   "source": [
    "### Calculando número de vistorias por município"
   ]
  },
  {
   "cell_type": "code",
   "execution_count": 10,
   "id": "a7f59c5e",
   "metadata": {},
   "outputs": [
    {
     "data": {
      "text/html": [
       "<div>\n",
       "<style scoped>\n",
       "    .dataframe tbody tr th:only-of-type {\n",
       "        vertical-align: middle;\n",
       "    }\n",
       "\n",
       "    .dataframe tbody tr th {\n",
       "        vertical-align: top;\n",
       "    }\n",
       "\n",
       "    .dataframe thead th {\n",
       "        text-align: right;\n",
       "    }\n",
       "</style>\n",
       "<table border=\"1\" class=\"dataframe\">\n",
       "  <thead>\n",
       "    <tr style=\"text-align: right;\">\n",
       "      <th></th>\n",
       "      <th>NM_MUNICIPIO</th>\n",
       "      <th>COUNT_VISTORIAS</th>\n",
       "    </tr>\n",
       "  </thead>\n",
       "  <tbody>\n",
       "    <tr>\n",
       "      <th>0</th>\n",
       "      <td>AGUA DOCE</td>\n",
       "      <td>324</td>\n",
       "    </tr>\n",
       "    <tr>\n",
       "      <th>1</th>\n",
       "      <td>BELA VISTA DO TOLDO</td>\n",
       "      <td>227</td>\n",
       "    </tr>\n",
       "    <tr>\n",
       "      <th>2</th>\n",
       "      <td>BELMONTE</td>\n",
       "      <td>6</td>\n",
       "    </tr>\n",
       "    <tr>\n",
       "      <th>3</th>\n",
       "      <td>DESCANSO</td>\n",
       "      <td>1524</td>\n",
       "    </tr>\n",
       "    <tr>\n",
       "      <th>4</th>\n",
       "      <td>IPORÃ DO OESTE</td>\n",
       "      <td>1378</td>\n",
       "    </tr>\n",
       "    <tr>\n",
       "      <th>5</th>\n",
       "      <td>IRACEMINHA</td>\n",
       "      <td>131</td>\n",
       "    </tr>\n",
       "    <tr>\n",
       "      <th>6</th>\n",
       "      <td>ITAIÓPOLIS</td>\n",
       "      <td>7</td>\n",
       "    </tr>\n",
       "    <tr>\n",
       "      <th>7</th>\n",
       "      <td>LUIZ ALVES</td>\n",
       "      <td>2</td>\n",
       "    </tr>\n",
       "    <tr>\n",
       "      <th>8</th>\n",
       "      <td>MAJOR VIEIRA</td>\n",
       "      <td>598</td>\n",
       "    </tr>\n",
       "    <tr>\n",
       "      <th>9</th>\n",
       "      <td>MATOS COSTA</td>\n",
       "      <td>130</td>\n",
       "    </tr>\n",
       "    <tr>\n",
       "      <th>10</th>\n",
       "      <td>MONDAÍ</td>\n",
       "      <td>1657</td>\n",
       "    </tr>\n",
       "    <tr>\n",
       "      <th>11</th>\n",
       "      <td>OTACÍLIO COSTA</td>\n",
       "      <td>1</td>\n",
       "    </tr>\n",
       "    <tr>\n",
       "      <th>12</th>\n",
       "      <td>TIMBÓ GRANDE</td>\n",
       "      <td>120</td>\n",
       "    </tr>\n",
       "  </tbody>\n",
       "</table>\n",
       "</div>"
      ],
      "text/plain": [
       "           NM_MUNICIPIO  COUNT_VISTORIAS\n",
       "0             AGUA DOCE              324\n",
       "1   BELA VISTA DO TOLDO              227\n",
       "2              BELMONTE                6\n",
       "3              DESCANSO             1524\n",
       "4        IPORÃ DO OESTE             1378\n",
       "5            IRACEMINHA              131\n",
       "6            ITAIÓPOLIS                7\n",
       "7            LUIZ ALVES                2\n",
       "8          MAJOR VIEIRA              598\n",
       "9           MATOS COSTA              130\n",
       "10               MONDAÍ             1657\n",
       "11       OTACÍLIO COSTA                1\n",
       "12         TIMBÓ GRANDE              120"
      ]
     },
     "execution_count": 10,
     "metadata": {},
     "output_type": "execute_result"
    }
   ],
   "source": [
    "df_num_vistorias_municipio = df_vistorias.groupby('NM_MUNICIPIO').size().reset_index(name='COUNT_VISTORIAS')\n",
    "df_num_vistorias_municipio"
   ]
  },
  {
   "cell_type": "markdown",
   "id": "cf09d1bd",
   "metadata": {},
   "source": [
    "### Calculando número de vistorias apto e apto com restrição po rmunicipio"
   ]
  },
  {
   "cell_type": "code",
   "execution_count": 14,
   "id": "3b9d8809",
   "metadata": {},
   "outputs": [
    {
     "data": {
      "text/html": [
       "<div>\n",
       "<style scoped>\n",
       "    .dataframe tbody tr th:only-of-type {\n",
       "        vertical-align: middle;\n",
       "    }\n",
       "\n",
       "    .dataframe tbody tr th {\n",
       "        vertical-align: top;\n",
       "    }\n",
       "\n",
       "    .dataframe thead th {\n",
       "        text-align: right;\n",
       "    }\n",
       "</style>\n",
       "<table border=\"1\" class=\"dataframe\">\n",
       "  <thead>\n",
       "    <tr style=\"text-align: right;\">\n",
       "      <th></th>\n",
       "      <th>NM_MUNICIPIO</th>\n",
       "      <th>COUNT_VISTORIAS</th>\n",
       "    </tr>\n",
       "  </thead>\n",
       "  <tbody>\n",
       "    <tr>\n",
       "      <th>0</th>\n",
       "      <td>AGUA DOCE</td>\n",
       "      <td>177</td>\n",
       "    </tr>\n",
       "    <tr>\n",
       "      <th>1</th>\n",
       "      <td>BELA VISTA DO TOLDO</td>\n",
       "      <td>139</td>\n",
       "    </tr>\n",
       "    <tr>\n",
       "      <th>2</th>\n",
       "      <td>BELMONTE</td>\n",
       "      <td>4</td>\n",
       "    </tr>\n",
       "    <tr>\n",
       "      <th>3</th>\n",
       "      <td>DESCANSO</td>\n",
       "      <td>1050</td>\n",
       "    </tr>\n",
       "    <tr>\n",
       "      <th>4</th>\n",
       "      <td>IPORÃ DO OESTE</td>\n",
       "      <td>1202</td>\n",
       "    </tr>\n",
       "    <tr>\n",
       "      <th>5</th>\n",
       "      <td>IRACEMINHA</td>\n",
       "      <td>79</td>\n",
       "    </tr>\n",
       "    <tr>\n",
       "      <th>6</th>\n",
       "      <td>ITAIÓPOLIS</td>\n",
       "      <td>4</td>\n",
       "    </tr>\n",
       "    <tr>\n",
       "      <th>7</th>\n",
       "      <td>LUIZ ALVES</td>\n",
       "      <td>2</td>\n",
       "    </tr>\n",
       "    <tr>\n",
       "      <th>8</th>\n",
       "      <td>MAJOR VIEIRA</td>\n",
       "      <td>330</td>\n",
       "    </tr>\n",
       "    <tr>\n",
       "      <th>9</th>\n",
       "      <td>MATOS COSTA</td>\n",
       "      <td>38</td>\n",
       "    </tr>\n",
       "    <tr>\n",
       "      <th>10</th>\n",
       "      <td>MONDAÍ</td>\n",
       "      <td>956</td>\n",
       "    </tr>\n",
       "    <tr>\n",
       "      <th>11</th>\n",
       "      <td>OTACÍLIO COSTA</td>\n",
       "      <td>1</td>\n",
       "    </tr>\n",
       "    <tr>\n",
       "      <th>12</th>\n",
       "      <td>TIMBÓ GRANDE</td>\n",
       "      <td>41</td>\n",
       "    </tr>\n",
       "  </tbody>\n",
       "</table>\n",
       "</div>"
      ],
      "text/plain": [
       "           NM_MUNICIPIO  COUNT_VISTORIAS\n",
       "0             AGUA DOCE              177\n",
       "1   BELA VISTA DO TOLDO              139\n",
       "2              BELMONTE                4\n",
       "3              DESCANSO             1050\n",
       "4        IPORÃ DO OESTE             1202\n",
       "5            IRACEMINHA               79\n",
       "6            ITAIÓPOLIS                4\n",
       "7            LUIZ ALVES                2\n",
       "8          MAJOR VIEIRA              330\n",
       "9           MATOS COSTA               38\n",
       "10               MONDAÍ              956\n",
       "11       OTACÍLIO COSTA                1\n",
       "12         TIMBÓ GRANDE               41"
      ]
     },
     "execution_count": 14,
     "metadata": {},
     "output_type": "execute_result"
    }
   ],
   "source": [
    "filtro = ['APTO', 'APTO COM RESTRIÇÃO']\n",
    "df_filtrado = df_vistorias[df_vistorias['SITUACAO_VISTORIA_DESCRICAO'].isin(filtro)]\n",
    "\n",
    "df_contagem_aptos = df_filtrado.groupby('NM_MUNICIPIO').size().reset_index(name='COUNT_VISTORIAS')\n",
    "df_contagem_aptos"
   ]
  },
  {
   "cell_type": "markdown",
   "id": "92955f1d",
   "metadata": {},
   "source": [
    "### Plotando vistorias aptas por município"
   ]
  },
  {
   "cell_type": "code",
   "execution_count": 20,
   "id": "6ecbaca4",
   "metadata": {},
   "outputs": [
    {
     "data": {
      "image/png": "[encoded data removed]",
      "text/plain": [
       "<Figure size 1000x600 with 1 Axes>"
      ]
     },
     "metadata": {},
     "output_type": "display_data"
    }
   ],
   "source": [
    "df_plot = df_contagem_aptos.sort_values(by='COUNT_VISTORIAS', ascending=False)\n",
    "\n",
    "municipios = df_plot['NM_MUNICIPIO']\n",
    "contagens = df_plot['COUNT_VISTORIAS']\n",
    "\n",
    "plt.figure(figsize=(10, 6))\n",
    "bars = plt.bar(municipios, contagens, color='darkgreen')\n",
    "\n",
    "plt.title('Contagem de Vistorias \"Apto\" ou \"Apto com Restrição\" por Município')\n",
    "plt.xlabel('Município')\n",
    "plt.ylabel('Número de Vistorias')\n",
    "plt.xticks(rotation=45, ha='right')\n",
    "\n",
    "for bar in bars:\n",
    "    yval = bar.get_height()\n",
    "    plt.text(bar.get_x() + bar.get_width()/2, yval, int(yval), ha='center', va='bottom')\n",
    "\n",
    "plt.tight_layout()\n",
    "plt.savefig('contagem_vistorias_filtradas.png')"
   ]
  },
  {
   "cell_type": "markdown",
   "id": "b621cc6c",
   "metadata": {},
   "source": [
    "### Gravando dataframe df_num_vistorias_municipio no banco de dados"
   ]
  },
  {
   "cell_type": "code",
   "execution_count": 19,
   "id": "70cf3a75",
   "metadata": {},
   "outputs": [
    {
     "name": "stdout",
     "output_type": "stream",
     "text": [
      "Engine de conexão criada com sucesso.\n",
      "\n",
      "DataFrame gravado com sucesso na tabela 'vistorias' no banco de dados 'sobrerodas'.\n"
     ]
    }
   ],
   "source": [
    "# --- 1. Dados de Conexão com o PostgreSQL ---\n",
    "\n",
    "DB_USER = \"superset\"\n",
    "DB_PASSWORD = \"superset\"\n",
    "DB_HOST = \"superset.casan.com.br\"\n",
    "DB_PORT = \"5432\"\n",
    "DB_NAME = \"sobrerodas\"\n",
    "TABLE_NAME = \"vistorias\"\n",
    "\n",
    "# --- 2. Criar a Engine de Conexão (SQLAlchemy) ---\n",
    "\n",
    "DATABASE_URL = f\"postgresql+psycopg2://{DB_USER}:{DB_PASSWORD}@{DB_HOST}:{DB_PORT}/{DB_NAME}\"\n",
    "\n",
    "try:\n",
    "    engine = create_engine(DATABASE_URL)\n",
    "    print(\"Engine de conexão criada com sucesso.\")\n",
    "    \n",
    "    # --- 3. Gravar o DataFrame na Tabela do PostgreSQL ---\n",
    "    \n",
    "    df_num_vistorias_municipio.to_sql(\n",
    "        name=TABLE_NAME, \n",
    "        con=engine, \n",
    "        if_exists='replace', # Opções: 'fail', 'replace', 'append'\n",
    "        index=False          # Não grava o índice do DataFrame como coluna\n",
    "    )\n",
    "\n",
    "    print(f\"\\nDataFrame gravado com sucesso na tabela '{TABLE_NAME}' no banco de dados '{DB_NAME}'.\")\n",
    "\n",
    "except ImportError:\n",
    "    print(\"\\nERRO: Certifique-se de que os pacotes 'pandas', 'sqlalchemy' e 'psycopg2' estão instalados.\")\n",
    "    print(\"Execute: pip install pandas sqlalchemy psycopg2\")\n",
    "except Exception as e:\n",
    "    print(f\"\\nOCORREU UM ERRO ao tentar conectar ou gravar no banco de dados:\")\n",
    "    print(e)\n",
    "    # Exibe a linha do erro, se possível\n",
    "    exc_type, exc_obj, exc_tb = sys.exc_info()\n",
    "    print(f\"Linha do erro: {exc_tb.tb_lineno}\")\n",
    "finally:\n",
    "    # É uma boa prática descartar a engine no final, embora não seja estritamente necessário \n",
    "    # se o script for encerrado logo em seguida.\n",
    "    if 'engine' in locals():\n",
    "        engine.dispose()"
   ]
  },
  {
   "cell_type": "markdown",
   "id": "af2ca2e7",
   "metadata": {},
   "source": [
    "### Gravando dataframe df_contagem_aptos no banco de dados"
   ]
  },
  {
   "cell_type": "code",
   "execution_count": 21,
   "id": "7c151246",
   "metadata": {},
   "outputs": [
    {
     "name": "stdout",
     "output_type": "stream",
     "text": [
      "Engine de conexão criada com sucesso.\n",
      "\n",
      "DataFrame gravado com sucesso na tabela 'vistorias_aptas' no banco de dados 'sobrerodas'.\n"
     ]
    }
   ],
   "source": [
    "DB_USER = \"superset\"\n",
    "DB_PASSWORD = \"superset\"\n",
    "DB_HOST = \"superset.casan.com.br\"\n",
    "DB_PORT = \"5432\"\n",
    "DB_NAME = \"sobrerodas\"\n",
    "TABLE_NAME = \"vistorias_aptas\"\n",
    "\n",
    "# --- 2. Criar a Engine de Conexão (SQLAlchemy) ---\n",
    "\n",
    "DATABASE_URL = f\"postgresql+psycopg2://{DB_USER}:{DB_PASSWORD}@{DB_HOST}:{DB_PORT}/{DB_NAME}\"\n",
    "\n",
    "try:\n",
    "    engine = create_engine(DATABASE_URL)\n",
    "    print(\"Engine de conexão criada com sucesso.\")\n",
    "    \n",
    "    # --- 3. Gravar o DataFrame na Tabela do PostgreSQL ---\n",
    "    \n",
    "    df_contagem_aptos.to_sql(\n",
    "        name=TABLE_NAME, \n",
    "        con=engine, \n",
    "        if_exists='replace', # Opções: 'fail', 'replace', 'append'\n",
    "        index=False          # Não grava o índice do DataFrame como coluna\n",
    "    )\n",
    "\n",
    "    print(f\"\\nDataFrame gravado com sucesso na tabela '{TABLE_NAME}' no banco de dados '{DB_NAME}'.\")\n",
    "\n",
    "except ImportError:\n",
    "    print(\"\\nERRO: Certifique-se de que os pacotes 'pandas', 'sqlalchemy' e 'psycopg2' estão instalados.\")\n",
    "    print(\"Execute: pip install pandas sqlalchemy psycopg2\")\n",
    "except Exception as e:\n",
    "    print(f\"\\nOCORREU UM ERRO ao tentar conectar ou gravar no banco de dados:\")\n",
    "    print(e)\n",
    "    # Exibe a linha do erro, se possível\n",
    "    exc_type, exc_obj, exc_tb = sys.exc_info()\n",
    "    print(f\"Linha do erro: {exc_tb.tb_lineno}\")\n",
    "finally:\n",
    "    # É uma boa prática descartar a engine no final, embora não seja estritamente necessário \n",
    "    # se o script for encerrado logo em seguida.\n",
    "    if 'engine' in locals():\n",
    "        engine.dispose()"
   ]
  }
 ],
 "metadata": {
  "kernelspec": {
   "display_name": "sobre-rodas",
   "language": "python",
   "name": "python3"
  },
  "language_info": {
   "codemirror_mode": {
    "name": "ipython",
    "version": 3
   },
   "file_extension": ".py",
   "mimetype": "text/x-python",
   "name": "python",
   "nbconvert_exporter": "python",
   "pygments_lexer": "ipython3",
   "version": "3.13.7"
  }
 },
 "nbformat": 4,
 "nbformat_minor": 5
}
