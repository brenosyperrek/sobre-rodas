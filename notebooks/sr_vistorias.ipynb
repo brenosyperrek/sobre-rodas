{
 "cells": [
  {
   "cell_type": "code",
   "execution_count": 1,
   "id": "8c48b34d",
   "metadata": {},
   "outputs": [],
   "source": [
    "import pandas as pd\n"
   ]
  },
  {
   "cell_type": "code",
   "execution_count": 2,
   "id": "f0e45b6c",
   "metadata": {},
   "outputs": [],
   "source": [
    "df_vistorias = pd.read_csv('/home/breno/projects/sobre-rodas/data/raw/V_VISTORIAS_EXECUTADAS_202510141605.csv')\n",
    "df_municipios = pd.read_csv('/home/breno/projects/sobre-rodas/data/raw/ORGAO_EMPRESA_202510141615.csv') \n",
    "df_limpezas = pd.read_csv('/home/breno/projects/sobre-rodas/data/raw/V_LIMPEZAS_EXECUTADAS_202510141706.csv')  "
   ]
  },
  {
   "cell_type": "code",
   "execution_count": 3,
   "id": "b36cab5b",
   "metadata": {},
   "outputs": [
    {
     "name": "stdout",
     "output_type": "stream",
     "text": [
      "<class 'pandas.core.frame.DataFrame'>\n",
      "RangeIndex: 6105 entries, 0 to 6104\n",
      "Data columns (total 4 columns):\n",
      " #   Column                       Non-Null Count  Dtype \n",
      "---  ------                       --------------  ----- \n",
      " 0   CD_MUNICIPIO                 6105 non-null   int64 \n",
      " 1   SITUACAO_VISTORIA            6105 non-null   int64 \n",
      " 2   SITUACAO_VISTORIA_DESCRICAO  6105 non-null   object\n",
      " 3   DATA_EXECUCAO                6105 non-null   object\n",
      "dtypes: int64(2), object(2)\n",
      "memory usage: 190.9+ KB\n",
      "None\n",
      "<class 'pandas.core.frame.DataFrame'>\n",
      "RangeIndex: 473 entries, 0 to 472\n",
      "Data columns (total 2 columns):\n",
      " #   Column            Non-Null Count  Dtype \n",
      "---  ------            --------------  ----- \n",
      " 0   CD_ORGAO_EMPRESA  473 non-null    int64 \n",
      " 1   NM_ORGAO_EMPRESA  473 non-null    object\n",
      "dtypes: int64(1), object(1)\n",
      "memory usage: 7.5+ KB\n",
      "None\n",
      "<class 'pandas.core.frame.DataFrame'>\n",
      "RangeIndex: 249 entries, 0 to 248\n",
      "Data columns (total 2 columns):\n",
      " #   Column         Non-Null Count  Dtype \n",
      "---  ------         --------------  ----- \n",
      " 0   CD_MUNICIPIO   249 non-null    int64 \n",
      " 1   DATA_EXECUCAO  249 non-null    object\n",
      "dtypes: int64(1), object(1)\n",
      "memory usage: 4.0+ KB\n",
      "None\n"
     ]
    }
   ],
   "source": [
    "print(df_vistorias.info())\n",
    "print(df_municipios.info())\n",
    "print(df_limpezas.info())"
   ]
  },
  {
   "cell_type": "code",
   "execution_count": 4,
   "id": "e634ba9d",
   "metadata": {},
   "outputs": [
    {
     "name": "stdout",
     "output_type": "stream",
     "text": [
      "   CD_MUNICIPIO  SITUACAO_VISTORIA SITUACAO_VISTORIA_DESCRICAO  \\\n",
      "0           571                  3                    NÃO APTO   \n",
      "1           571                  3                    NÃO APTO   \n",
      "2           571                  3                    NÃO APTO   \n",
      "3           571                  3                    NÃO APTO   \n",
      "4           571                  3                    NÃO APTO   \n",
      "\n",
      "             DATA_EXECUCAO  \n",
      "0  2024-07-02 11:13:17.000  \n",
      "1  2024-07-02 09:31:11.000  \n",
      "2  2024-12-12 09:00:38.000  \n",
      "3  2024-07-24 14:24:30.000  \n",
      "4  2024-07-24 14:30:25.000  \n",
      "   CD_ORGAO_EMPRESA    NM_ORGAO_EMPRESA\n",
      "0                 1              MATRIZ\n",
      "1                 2              ITAJAÍ\n",
      "2                 3  BALNEÁRIO CAMBORIU\n",
      "3                 4       FLORIANÓPOLIS\n",
      "4                 5             TUBARÃO\n",
      "   CD_MUNICIPIO            DATA_EXECUCAO\n",
      "0           571  2025-07-01 14:46:05.000\n",
      "1           571  2024-11-06 09:09:50.000\n",
      "2           571  2024-11-05 11:21:39.000\n",
      "3           571  2024-12-11 14:56:06.000\n",
      "4           571  2024-11-27 09:28:24.000\n"
     ]
    }
   ],
   "source": [
    "print(df_vistorias.head())\n",
    "print(df_municipios.head())\n",
    "print(df_limpezas.head())"
   ]
  },
  {
   "cell_type": "code",
   "execution_count": 5,
   "id": "f47502a6",
   "metadata": {},
   "outputs": [
    {
     "name": "stdout",
     "output_type": "stream",
     "text": [
      "Index(['CD_ORGAO_EMPRESA', 'NM_ORGAO_EMPRESA'], dtype='object')\n",
      "Index(['CD_MUNICIPIO', 'SITUACAO_VISTORIA', 'SITUACAO_VISTORIA_DESCRICAO',\n",
      "       'DATA_EXECUCAO'],\n",
      "      dtype='object')\n",
      "Index(['CD_MUNICIPIO', 'DATA_EXECUCAO'], dtype='object')\n"
     ]
    }
   ],
   "source": [
    "print(df_municipios.columns)\n",
    "print(df_vistorias.columns)\n",
    "print(df_limpezas.columns)"
   ]
  },
  {
   "cell_type": "code",
   "execution_count": 6,
   "id": "a840f008",
   "metadata": {},
   "outputs": [
    {
     "name": "stdout",
     "output_type": "stream",
     "text": [
      "       CD_MUNICIPIO  SITUACAO_VISTORIA\n",
      "count   6105.000000        6105.000000\n",
      "mean     614.890254           1.744308\n",
      "std       91.468483           0.934088\n",
      "min      524.000000           0.000000\n",
      "25%      524.000000           1.000000\n",
      "50%      571.000000           1.000000\n",
      "75%      734.000000           3.000000\n",
      "max      787.000000           3.000000\n",
      "       CD_ORGAO_EMPRESA\n",
      "count        473.000000\n",
      "mean         405.107822\n",
      "std          274.021045\n",
      "min            1.000000\n",
      "25%          139.000000\n",
      "50%          513.000000\n",
      "75%          649.000000\n",
      "max          908.000000\n",
      "       CD_MUNICIPIO\n",
      "count         249.0\n",
      "mean          571.0\n",
      "std             0.0\n",
      "min           571.0\n",
      "25%           571.0\n",
      "50%           571.0\n",
      "75%           571.0\n",
      "max           571.0\n"
     ]
    }
   ],
   "source": [
    "print(df_vistorias.describe())\n",
    "print(df_municipios.describe())\n",
    "print(df_limpezas.describe())"
   ]
  },
  {
   "cell_type": "code",
   "execution_count": null,
   "id": "f4752040",
   "metadata": {},
   "outputs": [],
   "source": []
  }
 ],
 "metadata": {
  "kernelspec": {
   "display_name": "sobre-rodas",
   "language": "python",
   "name": "python3"
  },
  "language_info": {
   "codemirror_mode": {
    "name": "ipython",
    "version": 3
   },
   "file_extension": ".py",
   "mimetype": "text/x-python",
   "name": "python",
   "nbconvert_exporter": "python",
   "pygments_lexer": "ipython3",
   "version": "3.13.7"
  }
 },
 "nbformat": 4,
 "nbformat_minor": 5
}
