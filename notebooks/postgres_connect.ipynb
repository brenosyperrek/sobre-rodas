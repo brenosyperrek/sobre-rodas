{
 "cells": [
  {
   "cell_type": "code",
   "execution_count": 2,
   "id": "4b808d90",
   "metadata": {},
   "outputs": [],
   "source": [
    "import pandas as pd\n",
    "from sqlalchemy import create_engine"
   ]
  },
  {
   "cell_type": "code",
   "execution_count": 3,
   "id": "833e1b55",
   "metadata": {},
   "outputs": [],
   "source": [
    "DB_NAME = \"sobrerodas\"\n",
    "DB_USER = \"superset\"\n",
    "DB_PASSWORD = \"superset\"\n",
    "DB_HOST = \"superset.casan.com.br\"  # ou o IP/endereço do seu servidor\n",
    "DB_PORT = \"5432\"       # porta padrão do PostgreSQL"
   ]
  },
  {
   "cell_type": "code",
   "execution_count": 4,
   "id": "99213f78",
   "metadata": {},
   "outputs": [],
   "source": [
    "SQLALCHEMY_DATABASE_URL = f\"postgresql://{DB_USER}:{DB_PASSWORD}@{DB_HOST}:{DB_PORT}/{DB_NAME}\""
   ]
  },
  {
   "cell_type": "code",
   "execution_count": 5,
   "id": "af7de9e0",
   "metadata": {},
   "outputs": [
    {
     "name": "stdout",
     "output_type": "stream",
     "text": [
      "Conexão com a Engine criada com sucesso.\n",
      "Ocorreu um erro: (psycopg2.errors.UndefinedTable) relation \"sobre_rodas\" does not exist\n",
      "LINE 5:         sobre_rodas \n",
      "                ^\n",
      "\n",
      "[SQL: \n",
      "    SELECT \n",
      "        *\n",
      "    FROM \n",
      "        sobre_rodas \n",
      "    ]\n",
      "(Background on this error at: https://sqlalche.me/e/20/f405)\n",
      "\n",
      "Verifique se as credenciais do banco de dados e a query estão corretas.\n",
      "\n",
      "Engine de conexão fechada.\n"
     ]
    }
   ],
   "source": [
    "try:\n",
    "    engine = create_engine(SQLALCHEMY_DATABASE_URL)\n",
    "    print(\"Conexão com a Engine criada com sucesso.\")\n",
    "\n",
    "    # --- 2. Define a Query SQL ---\n",
    "    sql_query = \"\"\"\n",
    "    SELECT \n",
    "        *\n",
    "    FROM \n",
    "        sobre_rodas \n",
    "    \"\"\"\n",
    "    \n",
    "    # --- 3. Executa a Query e Armazena o Resultado em um DataFrame Pandas ---\n",
    "    # read_sql é a função que conecta, executa a query e retorna o DataFrame\n",
    "    df = pd.read_sql(sql_query, engine)\n",
    "    \n",
    "    print(\"\\nQuery executada e dados carregados no DataFrame Pandas.\")\n",
    "\n",
    "    # --- 4. Exibe o Resultado ---\n",
    "    print(\"\\nInformações do DataFrame:\")\n",
    "    df.info()\n",
    "    \n",
    "    print(\"\\nPrimeiras 5 linhas do DataFrame:\")\n",
    "    print(df.head())\n",
    "\n",
    "except Exception as e:\n",
    "    print(f\"Ocorreu um erro: {e}\")\n",
    "    print(\"\\nVerifique se as credenciais do banco de dados e a query estão corretas.\")\n",
    "\n",
    "finally:\n",
    "    # O objeto 'engine' gerencia a pool de conexões, não é estritamente necessário fechá-lo\n",
    "    # após um read_sql, mas é uma boa prática para liberar recursos se o script terminar.\n",
    "    if 'engine' in locals():\n",
    "        engine.dispose()\n",
    "        print(\"\\nEngine de conexão fechada.\")"
   ]
  },
  {
   "cell_type": "code",
   "execution_count": null,
   "id": "f9ba31a7",
   "metadata": {},
   "outputs": [],
   "source": [
    "df."
   ]
  }
 ],
 "metadata": {
  "kernelspec": {
   "display_name": "sobre-rodas",
   "language": "python",
   "name": "python3"
  },
  "language_info": {
   "codemirror_mode": {
    "name": "ipython",
    "version": 3
   },
   "file_extension": ".py",
   "mimetype": "text/x-python",
   "name": "python",
   "nbconvert_exporter": "python",
   "pygments_lexer": "ipython3",
   "version": "3.13.7"
  }
 },
 "nbformat": 4,
 "nbformat_minor": 5
}
