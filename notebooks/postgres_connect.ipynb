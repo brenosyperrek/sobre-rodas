{
 "cells": [
  {
   "cell_type": "code",
   "execution_count": 1,
   "id": "4b808d90",
   "metadata": {},
   "outputs": [],
   "source": [
    "import pandas as pd\n",
    "from sqlalchemy import create_engine"
   ]
  },
  {
   "cell_type": "code",
   "execution_count": 2,
   "id": "833e1b55",
   "metadata": {},
   "outputs": [],
   "source": [
    "DB_NAME = \"sobrerodas\"\n",
    "DB_USER = \"superset\"\n",
    "DB_PASSWORD = \"superset\"\n",
    "DB_HOST = \"superset.casan.com.br\"  # ou o IP/endereço do seu servidor\n",
    "DB_PORT = \"5432\"       # porta padrão do PostgreSQL"
   ]
  },
  {
   "cell_type": "code",
   "execution_count": 3,
   "id": "99213f78",
   "metadata": {},
   "outputs": [],
   "source": [
    "SQLALCHEMY_DATABASE_URL = f\"postgresql://{DB_USER}:{DB_PASSWORD}@{DB_HOST}:{DB_PORT}/{DB_NAME}\""
   ]
  },
  {
   "cell_type": "code",
   "execution_count": 4,
   "id": "af7de9e0",
   "metadata": {},
   "outputs": [
    {
     "name": "stdout",
     "output_type": "stream",
     "text": [
      "Conexão com a Engine criada com sucesso.\n",
      "\n",
      "Query executada e dados carregados no DataFrame Pandas.\n",
      "\n",
      "Informações do DataFrame:\n",
      "<class 'pandas.core.frame.DataFrame'>\n",
      "RangeIndex: 327910 entries, 0 to 327909\n",
      "Data columns (total 7 columns):\n",
      " #   Column                  Non-Null Count   Dtype  \n",
      "---  ------                  --------------   -----  \n",
      " 0   CODIGO_MUNICIPIO        327910 non-null  int64  \n",
      " 1   NOME_MUNICIPIO          327910 non-null  object \n",
      " 2   QUANTIDADE_LIGACOES     327910 non-null  int64  \n",
      " 3   SITUACAO_VISTORIA       327621 non-null  float64\n",
      " 4   DESCRICAO_VISTORIA      327621 non-null  object \n",
      " 5   DATA_EXECUCAO_VISTORIA  327621 non-null  object \n",
      " 6   DATA_EXECUCAO_LIMPEZA   323256 non-null  object \n",
      "dtypes: float64(1), int64(2), object(4)\n",
      "memory usage: 17.5+ MB\n",
      "\n",
      "Primeiras 5 linhas do DataFrame:\n",
      "   CODIGO_MUNICIPIO NOME_MUNICIPIO  QUANTIDADE_LIGACOES  SITUACAO_VISTORIA  \\\n",
      "0            529000   ABELARDO LUZ                 3973                NaN   \n",
      "1            530000     AGROLÂNDIA                 3269                NaN   \n",
      "2            531000     AGRONÔMICA                 1297                NaN   \n",
      "3            532000      AGUA DOCE                 1570                3.0   \n",
      "4            532000      AGUA DOCE                 1570                3.0   \n",
      "\n",
      "  DESCRICAO_VISTORIA DATA_EXECUCAO_VISTORIA DATA_EXECUCAO_LIMPEZA  \n",
      "0               None                   None                  None  \n",
      "1               None                   None                  None  \n",
      "2               None                   None                  None  \n",
      "3           NÃO APTO               19/08/25                  None  \n",
      "4           NÃO APTO               19/08/25                  None  \n",
      "\n",
      "Engine de conexão fechada.\n"
     ]
    }
   ],
   "source": [
    "try:\n",
    "    engine = create_engine(SQLALCHEMY_DATABASE_URL)\n",
    "    print(\"Conexão com a Engine criada com sucesso.\")\n",
    "\n",
    "    # --- 2. Define a Query SQL ---\n",
    "    sql_query = \"\"\"\n",
    "    SELECT \n",
    "        *\n",
    "    FROM \n",
    "        sobre_rodas \n",
    "    \"\"\"\n",
    "    \n",
    "    # --- 3. Executa a Query e Armazena o Resultado em um DataFrame Pandas ---\n",
    "    # read_sql é a função que conecta, executa a query e retorna o DataFrame\n",
    "    df = pd.read_sql(sql_query, engine)\n",
    "    \n",
    "    print(\"\\nQuery executada e dados carregados no DataFrame Pandas.\")\n",
    "\n",
    "    # --- 4. Exibe o Resultado ---\n",
    "    print(\"\\nInformações do DataFrame:\")\n",
    "    df.info()\n",
    "    \n",
    "    print(\"\\nPrimeiras 5 linhas do DataFrame:\")\n",
    "    print(df.head())\n",
    "\n",
    "except Exception as e:\n",
    "    print(f\"Ocorreu um erro: {e}\")\n",
    "    print(\"\\nVerifique se as credenciais do banco de dados e a query estão corretas.\")\n",
    "\n",
    "finally:\n",
    "    # O objeto 'engine' gerencia a pool de conexões, não é estritamente necessário fechá-lo\n",
    "    # após um read_sql, mas é uma boa prática para liberar recursos se o script terminar.\n",
    "    if 'engine' in locals():\n",
    "        engine.dispose()\n",
    "        print(\"\\nEngine de conexão fechada.\")"
   ]
  },
  {
   "cell_type": "code",
   "execution_count": null,
   "id": "f9ba31a7",
   "metadata": {},
   "outputs": [],
   "source": [
    "df."
   ]
  }
 ],
 "metadata": {
  "kernelspec": {
   "display_name": "sobre-rodas",
   "language": "python",
   "name": "python3"
  },
  "language_info": {
   "codemirror_mode": {
    "name": "ipython",
    "version": 3
   },
   "file_extension": ".py",
   "mimetype": "text/x-python",
   "name": "python",
   "nbconvert_exporter": "python",
   "pygments_lexer": "ipython3",
   "version": "3.13.7"
  }
 },
 "nbformat": 4,
 "nbformat_minor": 5
}
